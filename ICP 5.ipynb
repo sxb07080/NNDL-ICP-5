{
 "cells": [
  {
   "cell_type": "code",
   "execution_count": null,
   "id": "initial_id",
   "metadata": {
    "collapsed": true
   },
   "outputs": [],
   "source": [
    "\"\"\"\n",
    "1. Implement Naïve Bayes method using scikit-learn library.\n",
    "Use dataset available with name glass.\n",
    "Use train_test_split to create training and testing part.\n",
    "Evaluate the model on test part using score and\n",
    "classification_report(y_true, y_pred)\n",
    "\"\"\""
   ]
  },
  {
   "cell_type": "code",
   "execution_count": 12,
   "outputs": [
    {
     "name": "stdout",
     "output_type": "stream",
     "text": [
      "              precision    recall  f1-score   support\n",
      "\n",
      "           1       0.41      0.64      0.50        11\n",
      "           2       0.43      0.21      0.29        14\n",
      "           3       0.40      0.67      0.50         3\n",
      "           5       0.50      0.25      0.33         4\n",
      "           6       1.00      1.00      1.00         3\n",
      "           7       0.89      1.00      0.94         8\n",
      "\n",
      "    accuracy                           0.56        43\n",
      "   macro avg       0.60      0.63      0.59        43\n",
      "weighted avg       0.55      0.56      0.53        43\n",
      "\n",
      "Naive Bayes accuracy is:  55.81\n"
     ]
    }
   ],
   "source": [
    "import pandas as pd\n",
    "from sklearn.model_selection import train_test_split\n",
    "from sklearn.naive_bayes import GaussianNB\n",
    "from sklearn.metrics import classification_report, accuracy_score\n",
    "\n",
    "\n",
    "glass_df = pd.read_csv('./glass.csv')\n",
    "x_train = glass_df.drop(\"Type\", axis=1)\n",
    "y_train = glass_df['Type']\n",
    "\n",
    "# splitting train and test data using train_test_split\n",
    "x_train, x_test, y_train, y_test = train_test_split(x_train, y_train, test_size=0.2, random_state=42)\n",
    "\n",
    "# Train the model using the training sets\n",
    "gnb = GaussianNB()\n",
    "gnb.fit(x_train, y_train)\n",
    "y_pred = gnb.predict(x_test)\n",
    "\n",
    "# Classification report\n",
    "report = classification_report(y_test, y_pred)\n",
    "print(report)\n",
    "acc_gnb = round((accuracy_score(y_test, y_pred))*100, 2)\n",
    "print(\"Naive Bayes accuracy is: \",acc_gnb)\n"
   ],
   "metadata": {
    "collapsed": false,
    "ExecuteTime": {
     "end_time": "2024-02-13T03:36:24.195647Z",
     "start_time": "2024-02-13T03:36:24.176657Z"
    }
   },
   "id": "e1155b83b476eff8"
  },
  {
   "cell_type": "code",
   "execution_count": null,
   "outputs": [],
   "source": [
    "\"\"\"\n",
    "2. Implement linear SVM method using scikit library\n",
    "Use the same dataset above\n",
    "Use train_test_split to create training and testing part\n",
    "Evaluate the model on test part using score and\n",
    "classification_report(y_true, y_pred)\n",
    "\"\"\""
   ],
   "metadata": {
    "collapsed": false
   },
   "id": "5d696efd83aad011"
  },
  {
   "cell_type": "code",
   "execution_count": 13,
   "outputs": [
    {
     "name": "stdout",
     "output_type": "stream",
     "text": [
      "              precision    recall  f1-score   support\n",
      "\n",
      "           1       0.69      0.82      0.75        11\n",
      "           2       0.67      0.71      0.69        14\n",
      "           3       0.00      0.00      0.00         3\n",
      "           5       0.80      1.00      0.89         4\n",
      "           6       1.00      0.67      0.80         3\n",
      "           7       0.88      0.88      0.88         8\n",
      "\n",
      "    accuracy                           0.74        43\n",
      "   macro avg       0.67      0.68      0.67        43\n",
      "weighted avg       0.70      0.74      0.72        43\n",
      "\n",
      "svm accuracy is:  74.42\n"
     ]
    }
   ],
   "source": [
    "import pandas as pd\n",
    "from sklearn.model_selection import train_test_split\n",
    "from sklearn.svm import SVC\n",
    "from sklearn.metrics import classification_report, accuracy_score\n",
    "\n",
    "\n",
    "glass_df = pd.read_csv('./glass.csv')\n",
    "x_train = glass_df.drop(\"Type\", axis=1)\n",
    "y_train = glass_df[\"Type\"]\n",
    "\n",
    "# splitting train and test data using train_test_split\n",
    "x_train, x_test, y_train, y_test = train_test_split(x_train, y_train, test_size=0.2, random_state=42)\n",
    "\n",
    "# Train the model using the training sets\n",
    "svc = SVC(kernel='linear')\n",
    "svc.fit(x_train, y_train)\n",
    "y_pred = svc.predict(x_test)\n",
    "\n",
    "# Classification report\n",
    "report = classification_report(y_test, y_pred, zero_division = 0)\n",
    "print(report)\n",
    "acc_svc = round(accuracy_score(y_test, y_pred)*100, 2)\n",
    "print(\"svm accuracy is: \", acc_svc)"
   ],
   "metadata": {
    "collapsed": false,
    "ExecuteTime": {
     "end_time": "2024-02-13T03:36:29.868009Z",
     "start_time": "2024-02-13T03:36:29.856778Z"
    }
   },
   "id": "7ce2cb03cd3b3a9e"
  },
  {
   "cell_type": "code",
   "execution_count": null,
   "outputs": [],
   "source": [
    "\"\"\"\n",
    "Which algorithm you got better accuracy? Can you justify why? \n",
    "\"\"\""
   ],
   "metadata": {
    "collapsed": false
   },
   "id": "eb6c2d5a305be56a"
  },
  {
   "cell_type": "code",
   "execution_count": null,
   "outputs": [],
   "source": [
    "\"\"\"\n",
    "By examining the outputs of both programs, it's evident that the Support Vector Machine (SVM) algorithm (program 2) achieved a higher accuracy of 74.42% compared to the Naive Bayes algorithm (program 1) which achieved an accuracy of 55.81%.\n",
    "\n",
    "SVM tends to perform better in scenarios where the data has complex decision boundaries or when there are fewer training examples. In this case, SVM with a linear kernel outperformed Naive Bayes, possibly because the dataset has some non-linear patterns that SVM is better equipped to handle, leading to a higher accuracy. Additionally, SVM might be more robust to the distribution of features in the dataset compared to Naive Bayes, which assumes independence among features.\n",
    "\"\"\""
   ],
   "metadata": {
    "collapsed": false
   },
   "id": "f7ae08e6b047d57d"
  }
 ],
 "metadata": {
  "kernelspec": {
   "display_name": "Python 3",
   "language": "python",
   "name": "python3"
  },
  "language_info": {
   "codemirror_mode": {
    "name": "ipython",
    "version": 2
   },
   "file_extension": ".py",
   "mimetype": "text/x-python",
   "name": "python",
   "nbconvert_exporter": "python",
   "pygments_lexer": "ipython2",
   "version": "2.7.6"
  }
 },
 "nbformat": 4,
 "nbformat_minor": 5
}
